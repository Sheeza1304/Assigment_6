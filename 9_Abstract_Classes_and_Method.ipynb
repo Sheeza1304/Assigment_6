{
  "nbformat": 4,
  "nbformat_minor": 0,
  "metadata": {
    "colab": {
      "provenance": [],
      "authorship_tag": "ABX9TyNnA+0XAf1feVvq9UDdHBM+",
      "include_colab_link": true
    },
    "kernelspec": {
      "name": "python3",
      "display_name": "Python 3"
    },
    "language_info": {
      "name": "python"
    }
  },
  "cells": [
    {
      "cell_type": "markdown",
      "metadata": {
        "id": "view-in-github",
        "colab_type": "text"
      },
      "source": [
        "<a href=\"https://colab.research.google.com/github/Sheeza1304/Assigment_6/blob/main/9_Abstract_Classes_and_Method.ipynb\" target=\"_parent\"><img src=\"https://colab.research.google.com/assets/colab-badge.svg\" alt=\"Open In Colab\"/></a>"
      ]
    },
    {
      "cell_type": "code",
      "execution_count": 9,
      "metadata": {
        "id": "s3_IJeuJcsxj"
      },
      "outputs": [],
      "source": [
        "from abc import ABC, abstractmethod\n",
        "\n",
        "class shape(ABC):\n",
        "  def area(self):\n",
        "    pass\n",
        "\n",
        "    class Rectangle(shape):\n",
        "      def __init__(self, width, height):\n",
        "        self.weidth = width\n",
        "        self.height = height\n",
        "\n",
        "        def area(self):\n",
        "          return self.width * self.height\n",
        "\n",
        "          rect = Rectangle(4, 5)\n",
        "          print(\"Area of rectangle:\", rect.area())"
      ]
    }
  ]
}