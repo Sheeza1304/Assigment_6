{
  "nbformat": 4,
  "nbformat_minor": 0,
  "metadata": {
    "colab": {
      "provenance": [],
      "authorship_tag": "ABX9TyPDuvOt1t2x85IMBN8AEkG+",
      "include_colab_link": true
    },
    "kernelspec": {
      "name": "python3",
      "display_name": "Python 3"
    },
    "language_info": {
      "name": "python"
    }
  },
  "cells": [
    {
      "cell_type": "markdown",
      "metadata": {
        "id": "view-in-github",
        "colab_type": "text"
      },
      "source": [
        "<a href=\"https://colab.research.google.com/github/Sheeza1304/Assigment_6/blob/main/14_Aggregation.ipynb\" target=\"_parent\"><img src=\"https://colab.research.google.com/assets/colab-badge.svg\" alt=\"Open In Colab\"/></a>"
      ]
    },
    {
      "cell_type": "code",
      "execution_count": null,
      "metadata": {
        "id": "8JLAGriX2wEs"
      },
      "outputs": [],
      "source": [
        "class Employee:\n",
        "  def __init__(self, name):\n",
        "    self.name = name\n",
        "\n",
        "    class Department:\n",
        "      def __init__(self, employee):\n",
        "        self.employee = employee\n",
        "        def get_employee_name(self):\n",
        "          return self.employee.name\n",
        "\n",
        "          emp = Employee(\"johan\")\n",
        "          dept = Department(emp)\n",
        "          print(dept.get_employee_name())"
      ]
    }
  ]
}