{
  "nbformat": 4,
  "nbformat_minor": 0,
  "metadata": {
    "colab": {
      "provenance": [],
      "authorship_tag": "ABX9TyNbCXrLTMrr8PYrXu00YOh+",
      "include_colab_link": true
    },
    "kernelspec": {
      "name": "python3",
      "display_name": "Python 3"
    },
    "language_info": {
      "name": "python"
    }
  },
  "cells": [
    {
      "cell_type": "markdown",
      "metadata": {
        "id": "view-in-github",
        "colab_type": "text"
      },
      "source": [
        "<a href=\"https://colab.research.google.com/github/Sheeza1304/Assigment_6/blob/main/10_Instance_Method.ipynb\" target=\"_parent\"><img src=\"https://colab.research.google.com/assets/colab-badge.svg\" alt=\"Open In Colab\"/></a>"
      ]
    },
    {
      "cell_type": "code",
      "execution_count": 1,
      "metadata": {
        "id": "xJALYCewezjz"
      },
      "outputs": [],
      "source": [
        "class Dog:\n",
        "  def __init__(self, name, breed):\n",
        "    self.name = name\n",
        "    self.breed = breed\n",
        "\n",
        "    def bark(self):\n",
        "      print(f\"{self.name} says woof!\")\n",
        "      dog = Dog(\"Buddy\", \"Golden Retriever\")\n",
        "      dog.bark()"
      ]
    }
  ]
}