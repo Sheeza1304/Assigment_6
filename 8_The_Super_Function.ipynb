{
  "nbformat": 4,
  "nbformat_minor": 0,
  "metadata": {
    "colab": {
      "provenance": [],
      "authorship_tag": "ABX9TyM9LI6/t86D8IxdMqvouSbr",
      "include_colab_link": true
    },
    "kernelspec": {
      "name": "python3",
      "display_name": "Python 3"
    },
    "language_info": {
      "name": "python"
    }
  },
  "cells": [
    {
      "cell_type": "markdown",
      "metadata": {
        "id": "view-in-github",
        "colab_type": "text"
      },
      "source": [
        "<a href=\"https://colab.research.google.com/github/Sheeza1304/Assigment_6/blob/main/8_The_Super_Function.ipynb\" target=\"_parent\"><img src=\"https://colab.research.google.com/assets/colab-badge.svg\" alt=\"Open In Colab\"/></a>"
      ]
    },
    {
      "cell_type": "code",
      "execution_count": 2,
      "metadata": {
        "colab": {
          "base_uri": "https://localhost:8080/"
        },
        "id": "AijWy7V0VSR5",
        "outputId": "8be7aa50-7d4c-4ec7-8b5d-70137a33f1bb"
      },
      "outputs": [
        {
          "output_type": "stream",
          "name": "stdout",
          "text": [
            "Name: Talha\n",
            "subject: Math\n"
          ]
        }
      ],
      "source": [
        "class person:\n",
        "  def __init__(self,name):\n",
        "    self.name = name\n",
        "    class Teacher(person):\n",
        "      def __init_init(self, name, subjects):\n",
        "        super().__init__(name)\n",
        "class person:\n",
        "  def __init__(self,name):\n",
        "    self.name = name\n",
        "class Teacher(person):\n",
        "    def __init__(self, name, subjects):\n",
        "        super().__init__(name)\n",
        "        self.subject = subjects\n",
        "teacher = Teacher(\"Talha\", \"Math\")\n",
        "print(\"Name:\", teacher.name)\n",
        "print(\"subject:\", teacher.subject)"
      ]
    }
  ]
}