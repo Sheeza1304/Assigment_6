{
  "nbformat": 4,
  "nbformat_minor": 0,
  "metadata": {
    "colab": {
      "provenance": [],
      "authorship_tag": "ABX9TyOZg/g0JNy/PkaSlt7hTd1x",
      "include_colab_link": true
    },
    "kernelspec": {
      "name": "python3",
      "display_name": "Python 3"
    },
    "language_info": {
      "name": "python"
    }
  },
  "cells": [
    {
      "cell_type": "markdown",
      "metadata": {
        "id": "view-in-github",
        "colab_type": "text"
      },
      "source": [
        "<a href=\"https://colab.research.google.com/github/Sheeza1304/Assigment_6/blob/main/18_Property_Decorators.ipynb\" target=\"_parent\"><img src=\"https://colab.research.google.com/assets/colab-badge.svg\" alt=\"Open In Colab\"/></a>"
      ]
    },
    {
      "cell_type": "code",
      "execution_count": 1,
      "metadata": {
        "id": "VC7dJkYjH9AQ"
      },
      "outputs": [],
      "source": [
        "class product:\n",
        "  def __init__(self, price):\n",
        "    self._price = price\n",
        "\n",
        "    def price(self):\n",
        "      return self._price\n",
        "\n",
        "      def price(self, value):\n",
        "        self._price = value\n",
        "\n",
        "        def price(self):\n",
        "          del self._price\n",
        "\n",
        "          item = product(100)\n",
        "          print(item.price)\n",
        "\n",
        "          item.price = 150\n",
        "          print(item.price)\n",
        "          del item.price"
      ]
    }
  ]
}