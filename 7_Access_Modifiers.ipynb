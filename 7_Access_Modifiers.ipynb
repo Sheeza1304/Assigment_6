{
  "nbformat": 4,
  "nbformat_minor": 0,
  "metadata": {
    "colab": {
      "provenance": [],
      "authorship_tag": "ABX9TyMOfeN3/A4PqEKzO5o4f7A8",
      "include_colab_link": true
    },
    "kernelspec": {
      "name": "python3",
      "display_name": "Python 3"
    },
    "language_info": {
      "name": "python"
    }
  },
  "cells": [
    {
      "cell_type": "markdown",
      "metadata": {
        "id": "view-in-github",
        "colab_type": "text"
      },
      "source": [
        "<a href=\"https://colab.research.google.com/github/Sheeza1304/Assigment_6/blob/main/7_Access_Modifiers.ipynb\" target=\"_parent\"><img src=\"https://colab.research.google.com/assets/colab-badge.svg\" alt=\"Open In Colab\"/></a>"
      ]
    },
    {
      "cell_type": "code",
      "execution_count": 2,
      "metadata": {
        "colab": {
          "base_uri": "https://localhost:8080/"
        },
        "id": "JzOww0wOSrXK",
        "outputId": "c952d598-305f-49b6-a8a3-80c175755e07"
      },
      "outputs": [
        {
          "output_type": "stream",
          "name": "stdout",
          "text": [
            "public: sheeza\n",
            "protected: 50000\n",
            "private (direct access): 'Employee' object has no attribute '__ssn'\n",
            "private (via name mangling): 134-65-768\n"
          ]
        }
      ],
      "source": [
        "class Employee:\n",
        "  def __init__(self, name, salary, ssn):\n",
        "    self.name = name\n",
        "    self.salary = salary\n",
        "    self.__ssn = ssn\n",
        "    em = Employee(\"sheeza\", 50000, \"134-65-768\")\n",
        "    print(\"public:\", emp.name)\n",
        "    print(\"protected:\", emp._salary)\n",
        "class Employee:\n",
        "  def __init__(self, name, salary, ssn):\n",
        "    self.name = name\n",
        "    self.salary = salary\n",
        "    self.__ssn = ssn\n",
        "\n",
        "em = Employee(\"sheeza\", 50000, \"134-65-768\")\n",
        "print(\"public:\", em.name)\n",
        "print(\"protected:\", em.salary)\n",
        "try:\n",
        "  print(\"private:\", em.__ssn)\n",
        "except AttributeError as e:\n",
        "  print(\"private (direct access):\",e)\n",
        "  print(\"private (via name mangling):\",em._Employee__ssn)"
      ]
    }
  ]
}