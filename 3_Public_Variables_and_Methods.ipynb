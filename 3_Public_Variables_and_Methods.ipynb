{
  "nbformat": 4,
  "nbformat_minor": 0,
  "metadata": {
    "colab": {
      "provenance": [],
      "authorship_tag": "ABX9TyOhnzYCJjTIG1H12wKoNPhi",
      "include_colab_link": true
    },
    "kernelspec": {
      "name": "python3",
      "display_name": "Python 3"
    },
    "language_info": {
      "name": "python"
    }
  },
  "cells": [
    {
      "cell_type": "markdown",
      "metadata": {
        "id": "view-in-github",
        "colab_type": "text"
      },
      "source": [
        "<a href=\"https://colab.research.google.com/github/Sheeza1304/Assigment_6/blob/main/3_Public_Variables_and_Methods.ipynb\" target=\"_parent\"><img src=\"https://colab.research.google.com/assets/colab-badge.svg\" alt=\"Open In Colab\"/></a>"
      ]
    },
    {
      "cell_type": "code",
      "execution_count": 15,
      "metadata": {
        "id": "bR7vuBbCaTsN"
      },
      "outputs": [],
      "source": [
        "class Car:\n",
        "  def __init__(self, brand):\n",
        "    self.brand = brand\n",
        "    def start(self):\n",
        "      print(f\"The {self.brand} car is starting.\")\n",
        "      my_car = Car(\"Kia\")\n",
        "      print(my_car.brand)\n",
        "      my_car.start()"
      ]
    }
  ]
}