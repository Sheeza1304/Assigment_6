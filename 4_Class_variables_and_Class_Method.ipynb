{
  "nbformat": 4,
  "nbformat_minor": 0,
  "metadata": {
    "colab": {
      "provenance": [],
      "authorship_tag": "ABX9TyN8PwYvGeBSnbBTgtvl5a9I",
      "include_colab_link": true
    },
    "kernelspec": {
      "name": "python3",
      "display_name": "Python 3"
    },
    "language_info": {
      "name": "python"
    }
  },
  "cells": [
    {
      "cell_type": "markdown",
      "metadata": {
        "id": "view-in-github",
        "colab_type": "text"
      },
      "source": [
        "<a href=\"https://colab.research.google.com/github/Sheeza1304/Assigment_6/blob/main/4_Class_variables_and_Class_Method.ipynb\" target=\"_parent\"><img src=\"https://colab.research.google.com/assets/colab-badge.svg\" alt=\"Open In Colab\"/></a>"
      ]
    },
    {
      "cell_type": "code",
      "execution_count": 2,
      "metadata": {
        "id": "CwbOUxCSdl_j"
      },
      "outputs": [],
      "source": [
        "class Bank:\n",
        "  bank_name = \"Default Bank\"\n",
        "  def change_bank_name(cls,name):\n",
        "    cls.bank_name = name\n",
        "    bank1 = Bank()\n",
        "    bank2 = Bank()\n",
        "    print(\"Before change:\")\n",
        "    print(f\"Bank1 name: {bank1.bank_name}\")\n",
        "    print(f\"Bank2 name: {bank2.bank_name}\")\n",
        "    Bank.change_bank_name(\"Habib Bank\")\n",
        "    print(\"After change:\")\n",
        "    print(f\"Bank1 name:{bank1.bank_name}\")\n",
        "    print(f\"Bank2 name:{bank2.bank_name}\")"
      ]
    }
  ]
}