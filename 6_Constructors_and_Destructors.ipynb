{
  "nbformat": 4,
  "nbformat_minor": 0,
  "metadata": {
    "colab": {
      "provenance": [],
      "authorship_tag": "ABX9TyOxB9ecUgH+TUTRbt8656I7",
      "include_colab_link": true
    },
    "kernelspec": {
      "name": "python3",
      "display_name": "Python 3"
    },
    "language_info": {
      "name": "python"
    }
  },
  "cells": [
    {
      "cell_type": "markdown",
      "metadata": {
        "id": "view-in-github",
        "colab_type": "text"
      },
      "source": [
        "<a href=\"https://colab.research.google.com/github/Sheeza1304/Assigment_6/blob/main/6_Constructors_and_Destructors.ipynb\" target=\"_parent\"><img src=\"https://colab.research.google.com/assets/colab-badge.svg\" alt=\"Open In Colab\"/></a>"
      ]
    },
    {
      "cell_type": "code",
      "execution_count": 6,
      "metadata": {
        "id": "VemHtnvVjJZ6"
      },
      "outputs": [],
      "source": [
        "class Logger:\n",
        "  def __init__(self):\n",
        "    print(\"Logger object destroyed\")\n",
        "    logger = Logger()\n",
        "    del logger"
      ]
    },
    {
      "cell_type": "code",
      "source": [],
      "metadata": {
        "id": "635hOwiWjdD9"
      },
      "execution_count": null,
      "outputs": []
    }
  ]
}