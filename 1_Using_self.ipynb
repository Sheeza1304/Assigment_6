{
  "nbformat": 4,
  "nbformat_minor": 0,
  "metadata": {
    "colab": {
      "provenance": [],
      "authorship_tag": "ABX9TyNfdXSIPyB3ZhhYneBbzF3R",
      "include_colab_link": true
    },
    "kernelspec": {
      "name": "python3",
      "display_name": "Python 3"
    },
    "language_info": {
      "name": "python"
    }
  },
  "cells": [
    {
      "cell_type": "markdown",
      "metadata": {
        "id": "view-in-github",
        "colab_type": "text"
      },
      "source": [
        "<a href=\"https://colab.research.google.com/github/Sheeza1304/Assigment_6/blob/main/1_Using_self.ipynb\" target=\"_parent\"><img src=\"https://colab.research.google.com/assets/colab-badge.svg\" alt=\"Open In Colab\"/></a>"
      ]
    },
    {
      "source": [
        "class student:\n",
        "  def __init__(self,name,mark):\n",
        "    self.name=name\n",
        "    self.mark=mark\n",
        "  def display(self):\n",
        "      print(f\"Name: {self.name}, Mark: {self.mark}\")\n",
        "  def display_again(self):\n",
        "      print(f\"Name: {self.name}, Mark: {self.mark}\")\n",
        "      student1 = student(\"sheeza\", 22)\n",
        "      student1.display()"
      ],
      "cell_type": "code",
      "metadata": {
        "id": "2U57Strj9UAi"
      },
      "execution_count": 21,
      "outputs": []
    }
  ]
}