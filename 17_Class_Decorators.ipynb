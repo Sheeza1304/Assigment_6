{
  "nbformat": 4,
  "nbformat_minor": 0,
  "metadata": {
    "colab": {
      "provenance": [],
      "authorship_tag": "ABX9TyMfufwxiAkwbi9TSo7ibzLE",
      "include_colab_link": true
    },
    "kernelspec": {
      "name": "python3",
      "display_name": "Python 3"
    },
    "language_info": {
      "name": "python"
    }
  },
  "cells": [
    {
      "cell_type": "markdown",
      "metadata": {
        "id": "view-in-github",
        "colab_type": "text"
      },
      "source": [
        "<a href=\"https://colab.research.google.com/github/Sheeza1304/Assigment_6/blob/main/17_Class_Decorators.ipynb\" target=\"_parent\"><img src=\"https://colab.research.google.com/assets/colab-badge.svg\" alt=\"Open In Colab\"/></a>"
      ]
    },
    {
      "cell_type": "code",
      "execution_count": 3,
      "metadata": {
        "id": "zJKgagZgGvhp"
      },
      "outputs": [],
      "source": [
        "def add_greeting(cls):\n",
        "  def greet(self):\n",
        "    return \"Hello from Decorator\"\n",
        "def add_greeting(cls):\n",
        "  def greet(self):\n",
        "    return \"Hello from Decorator\"\n",
        "  cls.greet = greet\n",
        "  return cls\n",
        "class person:\n",
        "    def __init__(self, name):\n",
        "      self.name = name\n",
        "      p = person(\"Alice\")\n",
        "      print(p.greet())\n",
        ""
      ]
    }
  ]
}