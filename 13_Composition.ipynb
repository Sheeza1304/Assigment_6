{
  "nbformat": 4,
  "nbformat_minor": 0,
  "metadata": {
    "colab": {
      "provenance": [],
      "authorship_tag": "ABX9TyOGxyqLBctYQtgizkfCO86R",
      "include_colab_link": true
    },
    "kernelspec": {
      "name": "python3",
      "display_name": "Python 3"
    },
    "language_info": {
      "name": "python"
    }
  },
  "cells": [
    {
      "cell_type": "markdown",
      "metadata": {
        "id": "view-in-github",
        "colab_type": "text"
      },
      "source": [
        "<a href=\"https://colab.research.google.com/github/Sheeza1304/Assigment_6/blob/main/13_Composition.ipynb\" target=\"_parent\"><img src=\"https://colab.research.google.com/assets/colab-badge.svg\" alt=\"Open In Colab\"/></a>"
      ]
    },
    {
      "cell_type": "code",
      "execution_count": 7,
      "metadata": {
        "id": "dHYlOUQB1U5B"
      },
      "outputs": [],
      "source": [
        "class Engine:\n",
        "  def start(self):\n",
        "    return \"Engine started\"\n",
        "    class Car:\n",
        "      def __init__(self, engine):\n",
        "        self.engine = engine\n",
        "\n",
        "        def start_engine(self):\n",
        "          return self.engine.start()\n",
        "          engine = Engine()\n",
        "          car = car(engine)\n",
        "          print(car.start_engine())"
      ]
    }
  ]
}