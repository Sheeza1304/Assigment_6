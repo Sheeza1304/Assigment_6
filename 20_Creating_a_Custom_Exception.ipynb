{
  "nbformat": 4,
  "nbformat_minor": 0,
  "metadata": {
    "colab": {
      "provenance": [],
      "authorship_tag": "ABX9TyNbcXD5OYY9vUHacTeXsDXK",
      "include_colab_link": true
    },
    "kernelspec": {
      "name": "python3",
      "display_name": "Python 3"
    },
    "language_info": {
      "name": "python"
    }
  },
  "cells": [
    {
      "cell_type": "markdown",
      "metadata": {
        "id": "view-in-github",
        "colab_type": "text"
      },
      "source": [
        "<a href=\"https://colab.research.google.com/github/Sheeza1304/Assigment_6/blob/main/20_Creating_a_Custom_Exception.ipynb\" target=\"_parent\"><img src=\"https://colab.research.google.com/assets/colab-badge.svg\" alt=\"Open In Colab\"/></a>"
      ]
    },
    {
      "cell_type": "code",
      "execution_count": null,
      "metadata": {
        "id": "8kmh4eMHKo7R"
      },
      "outputs": [],
      "source": [
        "class InvalidAgeError(Exception):\n",
        "    \"\"\"Exception raised for invalid age below 18.\"\"\"\n",
        "    pass\n",
        "\n",
        "def check_age(age):\n",
        "    if age < 18:\n",
        "        raise InvalidAgeError(\"Age must be at least 18.\")\n",
        "    print(\"Age is valid.\")\n",
        "\n",
        "# Test\n",
        "try:\n",
        "    check_age(16)\n",
        "except InvalidAgeError as e:\n",
        "    print(\"Caught an exception:\", e)\n"
      ]
    }
  ]
}