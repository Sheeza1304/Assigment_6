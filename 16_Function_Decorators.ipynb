{
  "nbformat": 4,
  "nbformat_minor": 0,
  "metadata": {
    "colab": {
      "provenance": [],
      "authorship_tag": "ABX9TyO1ryjgsRiUZEb5Ik4FNiu1",
      "include_colab_link": true
    },
    "kernelspec": {
      "name": "python3",
      "display_name": "Python 3"
    },
    "language_info": {
      "name": "python"
    }
  },
  "cells": [
    {
      "cell_type": "markdown",
      "metadata": {
        "id": "view-in-github",
        "colab_type": "text"
      },
      "source": [
        "<a href=\"https://colab.research.google.com/github/Sheeza1304/Assigment_6/blob/main/16_Function_Decorators.ipynb\" target=\"_parent\"><img src=\"https://colab.research.google.com/assets/colab-badge.svg\" alt=\"Open In Colab\"/></a>"
      ]
    },
    {
      "cell_type": "code",
      "execution_count": 7,
      "metadata": {
        "id": "ZNgayZpyFIOg"
      },
      "outputs": [],
      "source": [
        "def log_function_call(func):\n",
        "  def wrapper(*args, **kwargs):\n",
        "    print(\"Function is being called\")\n",
        "    return func(*args, **kwargs)\n",
        "    return wrapper\n",
        "    def say_hello():\n",
        "      print(\"Hello!\")\n",
        "      say_hello()"
      ]
    }
  ]
}