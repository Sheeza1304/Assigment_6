{
  "nbformat": 4,
  "nbformat_minor": 0,
  "metadata": {
    "colab": {
      "provenance": [],
      "authorship_tag": "ABX9TyPdvoIYT5HJL400N9utPrla",
      "include_colab_link": true
    },
    "kernelspec": {
      "name": "python3",
      "display_name": "Python 3"
    },
    "language_info": {
      "name": "python"
    }
  },
  "cells": [
    {
      "cell_type": "markdown",
      "metadata": {
        "id": "view-in-github",
        "colab_type": "text"
      },
      "source": [
        "<a href=\"https://colab.research.google.com/github/Sheeza1304/Assigment_6/blob/main/15_Method_Resolution.ipynb\" target=\"_parent\"><img src=\"https://colab.research.google.com/assets/colab-badge.svg\" alt=\"Open In Colab\"/></a>"
      ]
    },
    {
      "source": [
        "class A:\n",
        "  def show(self):\n",
        "    print(\"show from A\")\n",
        "\n",
        "class B(A):\n",
        "  def show(self):\n",
        "    print(\"show from B\")\n",
        "\n",
        "class C(A):\n",
        "  def show(self):\n",
        "    print(\"show from C\")\n",
        "\n",
        "class D(B, C):\n",
        "  pass\n",
        "\n",
        "obj = D()\n",
        "obj.show()\n",
        "\n",
        "print(\"MRO of D:\", [cls.__name__ for cls in D.__mro__])"
      ],
      "cell_type": "code",
      "metadata": {
        "colab": {
          "base_uri": "https://localhost:8080/"
        },
        "id": "IxfEpzYYE0g8",
        "outputId": "8d02d85b-4f12-4e9c-83f4-71d059e8f414"
      },
      "execution_count": 4,
      "outputs": [
        {
          "output_type": "stream",
          "name": "stdout",
          "text": [
            "show from B\n",
            "MRO of D: ['D', 'B', 'C', 'A', 'object']\n"
          ]
        }
      ]
    }
  ]
}