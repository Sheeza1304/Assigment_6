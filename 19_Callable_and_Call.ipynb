{
  "nbformat": 4,
  "nbformat_minor": 0,
  "metadata": {
    "colab": {
      "provenance": [],
      "authorship_tag": "ABX9TyPThOjxoYyXV/USj8V4zy53",
      "include_colab_link": true
    },
    "kernelspec": {
      "name": "python3",
      "display_name": "Python 3"
    },
    "language_info": {
      "name": "python"
    }
  },
  "cells": [
    {
      "cell_type": "markdown",
      "metadata": {
        "id": "view-in-github",
        "colab_type": "text"
      },
      "source": [
        "<a href=\"https://colab.research.google.com/github/Sheeza1304/Assigment_6/blob/main/19_Callable_and_Call.ipynb\" target=\"_parent\"><img src=\"https://colab.research.google.com/assets/colab-badge.svg\" alt=\"Open In Colab\"/></a>"
      ]
    },
    {
      "cell_type": "code",
      "execution_count": 1,
      "metadata": {
        "colab": {
          "base_uri": "https://localhost:8080/"
        },
        "id": "l5_w0mZaKNVP",
        "outputId": "4344db3b-1098-4a4a-afe8-df4e4053ed92"
      },
      "outputs": [
        {
          "output_type": "stream",
          "name": "stdout",
          "text": [
            "Is m callable? True\n",
            "Calling m with 10: 50\n"
          ]
        }
      ],
      "source": [
        "class Multiplier:\n",
        "    def __init__(self, factor):\n",
        "        self.factor = factor\n",
        "\n",
        "    def __call__(self, value):\n",
        "        return self.factor * value\n",
        "\n",
        "# Test\n",
        "m = Multiplier(5)\n",
        "print(\"Is m callable?\", callable(m))  # Should print: True\n",
        "print(\"Calling m with 10:\", m(10))    # Should print: 50\n"
      ]
    }
  ]
}